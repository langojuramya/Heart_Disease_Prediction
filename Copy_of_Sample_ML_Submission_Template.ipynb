{
  "nbformat": 4,
  "nbformat_minor": 0,
  "metadata": {
    "colab": {
      "private_outputs": true,
      "provenance": [],
      "collapsed_sections": [
        "vncDsAP0Gaoa",
        "FJNUwmbgGyua",
        "w6K7xa23Elo4",
        "yQaldy8SH6Dl",
        "mDgbUHAGgjLW",
        "O_i_v8NEhb9l",
        "HhfV-JJviCcP",
        "Y3lxredqlCYt",
        "3RnN4peoiCZX",
        "x71ZqKXriCWQ",
        "7hBIi_osiCS2",
        "JlHwYmJAmNHm",
        "35m5QtbWiB9F",
        "PoPl-ycgm1ru",
        "H0kj-8xxnORC",
        "nA9Y7ga8ng1Z",
        "PBTbrJXOngz2",
        "u3PMJOP6ngxN",
        "dauF4eBmngu3",
        "bKJF3rekwFvQ",
        "MSa1f5Uengrz",
        "GF8Ens_Soomf",
        "0wOQAZs5pc--",
        "K5QZ13OEpz2H",
        "lQ7QKXXCp7Bj",
        "448CDAPjqfQr",
        "KSlN3yHqYklG",
        "t6dVpIINYklI",
        "ijmpgYnKYklI",
        "-JiQyfWJYklI",
        "EM7whBJCYoAo",
        "fge-S5ZAYoAp",
        "85gYPyotYoAp",
        "RoGjAbkUYoAp",
        "4Of9eVA-YrdM",
        "iky9q4vBYrdO",
        "F6T5p64dYrdO",
        "y-Ehk30pYrdP",
        "bamQiAODYuh1",
        "QHF8YVU7Yuh3",
        "GwzvFGzlYuh3",
        "qYpmQ266Yuh3",
        "OH-pJp9IphqM",
        "bbFf2-_FphqN",
        "_ouA3fa0phqN",
        "Seke61FWphqN",
        "PIIx-8_IphqN",
        "t27r6nlMphqO",
        "r2jJGEOYphqO",
        "b0JNsNcRphqO",
        "BZR9WyysphqO",
        "jj7wYXLtphqO",
        "eZrbJ2SmphqO",
        "rFu4xreNphqO",
        "YJ55k-q6phqO",
        "gCFgpxoyphqP",
        "OVtJsKN_phqQ",
        "lssrdh5qphqQ",
        "U2RJ9gkRphqQ",
        "1M8mcRywphqQ",
        "tgIPom80phqQ",
        "JMzcOPDDphqR",
        "x-EpHcCOp1ci",
        "X_VqEhTip1ck",
        "8zGJKyg5p1ck",
        "PVzmfK_Ep1ck",
        "n3dbpmDWp1ck",
        "ylSl6qgtp1ck",
        "ZWILFDl5p1ck",
        "M7G43BXep1ck",
        "Ag9LCva-p1cl",
        "E6MkPsBcp1cl",
        "2cELzS2fp1cl",
        "3MPXvC8up1cl",
        "NC_X3p0fY2L0",
        "UV0SzAkaZNRQ",
        "YPEH6qLeZNRQ",
        "q29F0dvdveiT",
        "EXh0U9oCveiU",
        "22aHeOlLveiV",
        "g-ATYxFrGrvw",
        "Yfr_Vlr8HBkt",
        "8yEUt7NnHlrM",
        "tEA2Xm5dHt1r",
        "I79__PHVH19G",
        "Ou-I18pAyIpj",
        "fF3858GYyt-u",
        "4_0_7-oCpUZd",
        "hwyV_J3ipUZe",
        "3yB-zSqbpUZe",
        "dEUvejAfpUZe",
        "Fd15vwWVpUZf",
        "bn_IUdTipZyH",
        "49K5P_iCpZyH",
        "Nff-vKELpZyI",
        "kLW572S8pZyI",
        "dWbDXHzopZyI",
        "yLjJCtPM0KBk",
        "xiyOF9F70UgQ",
        "7wuGOrhz0itI",
        "id1riN9m0vUs",
        "578E2V7j08f6",
        "89xtkJwZ18nB",
        "67NQN5KX2AMe",
        "Iwf50b-R2tYG",
        "GMQiZwjn3iu7",
        "WVIkgGqN3qsr",
        "XkPnILGE3zoT",
        "Hlsf0x5436Go",
        "mT9DMSJo4nBL",
        "c49ITxTc407N",
        "OeJFEK0N496M",
        "9ExmJH0g5HBk",
        "cJNqERVU536h",
        "k5UmGsbsOxih",
        "T0VqWOYE6DLQ",
        "qBMux9mC6MCf",
        "-oLEiFgy-5Pf",
        "C74aWNz2AliB",
        "2DejudWSA-a0",
        "pEMng2IbBLp7",
        "rAdphbQ9Bhjc",
        "TNVZ9zx19K6k",
        "nqoHp30x9hH9",
        "rMDnDkt2B6du",
        "yiiVWRdJDDil",
        "1UUpS68QDMuG",
        "kexQrXU-DjzY",
        "T5CmagL3EC8N",
        "BhH2vgX9EjGr",
        "qjKvONjwE8ra",
        "P1XJ9OREExlT",
        "VFOzZv6IFROw",
        "TIqpNgepFxVj",
        "VfCC591jGiD4",
        "OB4l2ZhMeS1U",
        "ArJBuiUVfxKd",
        "4qY1EAkEfxKe",
        "PiV4Ypx8fxKe",
        "TfvqoZmBfxKf",
        "dJ2tPlVmpsJ0",
        "JWYfwnehpsJ1",
        "-jK_YjpMpsJ2",
        "HAih1iBOpsJ2",
        "zVGeBEFhpsJ2",
        "bmKjuQ-FpsJ3",
        "Fze-IPXLpx6K",
        "7AN1z2sKpx6M",
        "9PIHJqyupx6M",
        "_-qAgymDpx6N",
        "Z-hykwinpx6N",
        "h_CCil-SKHpo",
        "cBFFvTBNJzUa",
        "HvGl1hHyA_VK",
        "EyNgTHvd2WFk",
        "KH5McJBi2d8v",
        "iW_Lq9qf2h6X",
        "-Kee-DAl2viO",
        "gCX9965dhzqZ",
        "gIfDvo9L0UH2"
      ],
      "include_colab_link": true
    },
    "kernelspec": {
      "name": "python3",
      "display_name": "Python 3"
    },
    "language_info": {
      "name": "python"
    }
  },
  "cells": [
    {
      "cell_type": "markdown",
      "metadata": {
        "id": "view-in-github",
        "colab_type": "text"
      },
      "source": [
        "<a href=\"https://colab.research.google.com/github/langojuramya/Heart_Disease_Prediction/blob/main/Copy_of_Sample_ML_Submission_Template.ipynb\" target=\"_parent\"><img src=\"https://colab.research.google.com/assets/colab-badge.svg\" alt=\"Open In Colab\"/></a>"
      ]
    },
    {
      "cell_type": "markdown",
      "source": [
        "# **Project Name**    - **Heart Disease Prediction**\n",
        "\n"
      ],
      "metadata": {
        "id": "vncDsAP0Gaoa"
      }
    },
    {
      "cell_type": "markdown",
      "source": [
        "##### **Project Type**    - supervised\n",
        "##### **Contribution**    - Individual\n",
        "##### **Name**            - L Ramya\n"
      ],
      "metadata": {
        "id": "beRrZCGUAJYm"
      }
    },
    {
      "cell_type": "markdown",
      "source": [
        "# **Project Summary -**"
      ],
      "metadata": {
        "id": "FJNUwmbgGyua"
      }
    },
    {
      "cell_type": "markdown",
      "source": [
        "Heart disease is one of the leading causes of mortality worldwide. Early prediction of heart disease can save lives by enabling timely medical intervention. This project demonstrates the use of machine learning to analyze patient data and predict the likelihood of heart disease. It highlights the importance of leveraging data-driven approaches to enhance healthcare decision-making. By working on this project, one can gain valuable insights into data analysis, feature engineering, and model evaluation while contributing to societal well-being."
      ],
      "metadata": {
        "id": "F6v_1wHtG2nS"
      }
    },
    {
      "cell_type": "markdown",
      "source": [
        "# **GitHub Link -**"
      ],
      "metadata": {
        "id": "w6K7xa23Elo4"
      }
    },
    {
      "cell_type": "markdown",
      "source": [
        "https://github.com/langojuramya/Heart_Disease_Prediction"
      ],
      "metadata": {
        "id": "h1o69JH3Eqqn"
      }
    },
    {
      "cell_type": "markdown",
      "source": [
        "# **Problem Statement**\n"
      ],
      "metadata": {
        "id": "yQaldy8SH6Dl"
      }
    },
    {
      "cell_type": "markdown",
      "source": [
        "**Write Problem Statement Here.**"
      ],
      "metadata": {
        "id": "DpeJGUA3kjGy"
      }
    },
    {
      "cell_type": "markdown",
      "source": [
        "# **General Guidelines** : -  "
      ],
      "metadata": {
        "id": "mDgbUHAGgjLW"
      }
    },
    {
      "cell_type": "markdown",
      "source": [
        "1.   Well-structured, formatted, and commented code is required.\n",
        "2.   Exception Handling, Production Grade Code & Deployment Ready Code will be a plus. Those students will be awarded some additional credits.\n",
        "     \n",
        "     The additional credits will have advantages over other students during Star Student selection.\n",
        "       \n",
        "             [ Note: - Deployment Ready Code is defined as, the whole .ipynb notebook should be executable in one go\n",
        "                       without a single error logged. ]\n",
        "\n",
        "3.   Each and every logic should have proper comments.\n",
        "4. You may add as many number of charts you want. Make Sure for each and every chart the following format should be answered.\n",
        "        \n",
        "\n",
        "```\n",
        "# Chart visualization code\n",
        "```\n",
        "            \n",
        "\n",
        "*   Why did you pick the specific chart?\n",
        "*   What is/are the insight(s) found from the chart?\n",
        "* Will the gained insights help creating a positive business impact?\n",
        "Are there any insights that lead to negative growth? Justify with specific reason.\n",
        "\n",
        "5. You have to create at least 15 logical & meaningful charts having important insights.\n",
        "\n",
        "\n",
        "[ Hints : - Do the Vizualization in  a structured way while following \"UBM\" Rule.\n",
        "\n",
        "U - Univariate Analysis,\n",
        "\n",
        "B - Bivariate Analysis (Numerical - Categorical, Numerical - Numerical, Categorical - Categorical)\n",
        "\n",
        "M - Multivariate Analysis\n",
        " ]\n",
        "\n",
        "\n",
        "\n",
        "\n",
        "\n",
        "6. You may add more ml algorithms for model creation. Make sure for each and every algorithm, the following format should be answered.\n",
        "\n",
        "\n",
        "*   Explain the ML Model used and it's performance using Evaluation metric Score Chart.\n",
        "\n",
        "\n",
        "*   Cross- Validation & Hyperparameter Tuning\n",
        "\n",
        "*   Have you seen any improvement? Note down the improvement with updates Evaluation metric Score Chart.\n",
        "\n",
        "*   Explain each evaluation metric's indication towards business and the business impact pf the ML model used.\n",
        "\n",
        "\n",
        "\n",
        "\n",
        "\n",
        "\n",
        "\n",
        "\n",
        "\n",
        "\n",
        "\n",
        "\n",
        "\n",
        "\n",
        "\n",
        "\n",
        "\n",
        "\n"
      ],
      "metadata": {
        "id": "ZrxVaUj-hHfC"
      }
    },
    {
      "cell_type": "markdown",
      "source": [
        "# ***Let's Begin !***"
      ],
      "metadata": {
        "id": "O_i_v8NEhb9l"
      }
    },
    {
      "cell_type": "markdown",
      "source": [
        "## ***1. Know Your Data***"
      ],
      "metadata": {
        "id": "HhfV-JJviCcP"
      }
    },
    {
      "cell_type": "markdown",
      "source": [
        "### Import Libraries"
      ],
      "metadata": {
        "id": "Y3lxredqlCYt"
      }
    },
    {
      "cell_type": "code",
      "source": [
        "# Import Libraries\n",
        "import pandas as pd\n",
        "import numpy as np\n",
        "import matplotlib.pyplot as plt\n",
        "import seaborn as sns\n",
        "\n",
        "from sklearn.model_selection import train_test_split\n",
        "from sklearn.preprocessing import StandardScaler\n",
        "from sklearn.linear_model import LogisticRegression\n",
        "from sklearn.metrics import classification_report, accuracy_score, confusion_matrix"
      ],
      "metadata": {
        "id": "M8Vqi-pPk-HR"
      },
      "execution_count": null,
      "outputs": []
    },
    {
      "cell_type": "markdown",
      "source": [
        "### Dataset Loading"
      ],
      "metadata": {
        "id": "3RnN4peoiCZX"
      }
    },
    {
      "cell_type": "code",
      "source": [
        "# Load Dataset\n"
      ],
      "metadata": {
        "id": "4CkvbW_SlZ_R"
      },
      "execution_count": null,
      "outputs": []
    },
    {
      "cell_type": "code",
      "source": [
        "from google.colab import drive\n",
        "drive.mount('/content/drive')\n"
      ],
      "metadata": {
        "id": "En9nBfTMdyvY"
      },
      "execution_count": null,
      "outputs": []
    },
    {
      "cell_type": "code",
      "source": [],
      "metadata": {
        "id": "8n5K4F7fd2Av"
      },
      "execution_count": null,
      "outputs": []
    },
    {
      "cell_type": "code",
      "source": [
        "from google.colab import drive\n",
        "drive.mount('/content/drive')\n"
      ],
      "metadata": {
        "id": "vKeJA_3Bd45p"
      },
      "execution_count": null,
      "outputs": []
    },
    {
      "cell_type": "code",
      "source": [
        "df = pd.read_csv(\"/content/drive/MyDrive/heart-disease.csv\")"
      ],
      "metadata": {
        "id": "d8MTRLoxeEJS"
      },
      "execution_count": null,
      "outputs": []
    },
    {
      "cell_type": "markdown",
      "source": [
        "### Dataset First View"
      ],
      "metadata": {
        "id": "x71ZqKXriCWQ"
      }
    },
    {
      "cell_type": "code",
      "source": [
        "# Dataset First Look\n",
        "df.head(3)"
      ],
      "metadata": {
        "id": "LWNFOSvLl09H"
      },
      "execution_count": null,
      "outputs": []
    },
    {
      "cell_type": "markdown",
      "source": [
        "### Dataset Information"
      ],
      "metadata": {
        "id": "JlHwYmJAmNHm"
      }
    },
    {
      "cell_type": "code",
      "source": [
        "# Dataset Info\n",
        "df.info()"
      ],
      "metadata": {
        "id": "e9hRXRi6meOf"
      },
      "execution_count": null,
      "outputs": []
    },
    {
      "cell_type": "code",
      "source": [
        "df.describe().round(2)"
      ],
      "metadata": {
        "id": "R-uB4liSeyvx"
      },
      "execution_count": null,
      "outputs": []
    },
    {
      "cell_type": "markdown",
      "source": [
        "#From the Dataset"
      ],
      "metadata": {
        "id": "A9TCwqzNe4yT"
      }
    },
    {
      "cell_type": "markdown",
      "source": [
        "This dataset contains 1,888 records. It includes 14 column that are crucial for predicting heart attack and stroke risks, covering both medical and demographic factors. Below is a detailed description of each feature.\n",
        "\n",
        "1. age: Age of the patient (Numeric).\n",
        "2. sex: Gender of the patient. Values: 1 = male, 0 = female.\n",
        "3. cp: Chest pain type. Values: 0 = Typical angina, 1 = Atypical angina, 2 = Non-anginal pain, 3 = Asymptomatic, 4 = Psychogenic Chest Pain.\n",
        "4. trestbps: Resting Blood Pressure (in mm Hg) (Numeric).\n",
        "5. chol: Serum Cholesterol level (in mg/dl) (Numeric).\n",
        "6. fbs: Fasting blood sugar > 120 mg/dl. Values: 1 = true, 0 = false.\n",
        "7. restecg: Resting electrocardiographic results. Values: 0 = Normal, 1 = ST-T wave abnormality, 2 = Left ventricular hypertrophy.\n",
        "8. thalach: Maximum heart rate achieved (Numeric).\n",
        "9. exang: Exercise-induced angina. Values: 1 = yes, 0 = no.\n",
        "10. oldpeak: ST depression induced by exercise relative to rest (Numeric).\n",
        "11. slope: Slope of the peak exercise ST segment. Values: 0 = Upsloping, 1 = Flat, 2 = Downsloping.\n",
        "12. ca: Number of major vessels (0-3) colored by fluoroscopy. Values: 0, 1, 2, 3.\n",
        "13. thal: Thalassemia types. Values: 1 = Normal, 2 = Fixed defect, 3 = Reversible defect.\n",
        "14. target: Outcome variable (heart attack risk). Values: 1 = more chance of heart attack, 0 = less chance of heart attack."
      ],
      "metadata": {
        "id": "dStQVOryfEUg"
      }
    },
    {
      "cell_type": "markdown",
      "source": [
        "#### Missing Values/Null Values"
      ],
      "metadata": {
        "id": "PoPl-ycgm1ru"
      }
    },
    {
      "cell_type": "code",
      "source": [
        "\n",
        "# Checking for null values\n",
        "df.isna().sum()"
      ],
      "metadata": {
        "id": "GgHWkxvamxVg"
      },
      "execution_count": null,
      "outputs": []
    },
    {
      "cell_type": "markdown",
      "source": [
        "#Graph"
      ],
      "metadata": {
        "id": "WcLboOOAfkLj"
      }
    },
    {
      "cell_type": "markdown",
      "source": [
        "1:more chances of heart attack\n",
        "\n",
        "0:less chances of heart attack"
      ],
      "metadata": {
        "id": "fePbYfS9frLC"
      }
    },
    {
      "cell_type": "code",
      "source": [
        "# checking number of male and female\n",
        "sns.barplot(x=df['sex'].value_counts().index, y=df['sex'].value_counts())\n",
        "plt.xlabel('Gender')\n",
        "plt.ylabel(\"number of patient\")\n",
        "plt.title(\"difference in number of male and female\")\n",
        "plt.xticks([0, 1], ['Female', 'Male'])\n",
        "plt.show()"
      ],
      "metadata": {
        "id": "GqRn3WW0fyUu"
      },
      "execution_count": null,
      "outputs": []
    },
    {
      "cell_type": "markdown",
      "source": [
        "Number of Male: 1300\n",
        "\n",
        "Number of Female: 588\n"
      ],
      "metadata": {
        "id": "VinmrXw4f4J2"
      }
    },
    {
      "cell_type": "markdown",
      "source": [
        "This are the total number of patients, now we gonna see how many of them has chances for heart attack"
      ],
      "metadata": {
        "id": "3UW72TPKf6iC"
      }
    },
    {
      "cell_type": "code",
      "source": [
        "# Checking how many number of patients has chances for heart attack\n",
        "gender_target = df.groupby(['sex', 'target']).size().unstack()\n",
        "\n",
        "gender_target"
      ],
      "metadata": {
        "id": "77WOy6yqf-qr"
      },
      "execution_count": null,
      "outputs": []
    },
    {
      "cell_type": "code",
      "source": [
        "gender_target.plot(kind='bar')\n",
        "plt.xlabel('Gender')\n",
        "plt.ylabel(\"number of patient\")\n",
        "plt.title(\"Chances of heart attack\")\n",
        "plt.xticks([0, 1], ['Female', 'Male'])\n",
        "plt.show()"
      ],
      "metadata": {
        "id": "eSJRNVZNgFFG"
      },
      "execution_count": null,
      "outputs": []
    },
    {
      "cell_type": "markdown",
      "source": [
        "# Chest Pain"
      ],
      "metadata": {
        "id": "CYKk_AyygIeR"
      }
    },
    {
      "cell_type": "markdown",
      "source": [
        "In Heart Attack scenario chest pain is the most crucial part."
      ],
      "metadata": {
        "id": "oMt1auGagUKA"
      }
    },
    {
      "cell_type": "code",
      "source": [
        "# checking how many patient got which type of chest pain\n",
        "chest_pain = df.groupby(['sex', 'cp']).size().unstack()\n",
        "chest_pain"
      ],
      "metadata": {
        "id": "3NzciiwngVIV"
      },
      "execution_count": null,
      "outputs": []
    },
    {
      "cell_type": "code",
      "source": [
        "chest_pain.plot(kind='bar')\n",
        "plt.xticks([0, 1], ['Female', 'Male'])\n",
        "plt.xlabel(\"No. of patient\")\n",
        "plt.ylabel(\"Gender\")\n",
        "plt.title(\"Patients with types of chest pain\")\n",
        "plt.show()"
      ],
      "metadata": {
        "id": "GMhKDtSMgbHH"
      },
      "execution_count": null,
      "outputs": []
    },
    {
      "cell_type": "markdown",
      "source": [
        "As the number increases in chart's legend, danger increases\n",
        "\n",
        "0 = Typical angina\n",
        "\n",
        "1 = Atypical angina\n",
        "\n",
        "2 = Non-anginal pain\n",
        "\n",
        "3 = Asymptomatic\n",
        "\n",
        "4 = Psychogenic Chest Pain"
      ],
      "metadata": {
        "id": "onncHfc8gfqa"
      }
    },
    {
      "cell_type": "code",
      "source": [
        "# cheacking the number of major vessels which are coloured by fluroscopy\n",
        "df['ca'].unique()"
      ],
      "metadata": {
        "id": "qS-pbNGqgkb1"
      },
      "execution_count": null,
      "outputs": []
    },
    {
      "cell_type": "code",
      "source": [
        "vessels_by_fluroscopy = df.groupby(['sex', 'ca']).size().unstack()\n",
        "vessels_by_fluroscopy"
      ],
      "metadata": {
        "id": "RMboBLh_gmEe"
      },
      "execution_count": null,
      "outputs": []
    },
    {
      "cell_type": "code",
      "source": [
        "vessels_by_fluroscopy.plot(kind='bar')\n",
        "plt.show()"
      ],
      "metadata": {
        "id": "eE4zWdrvgtLV"
      },
      "execution_count": null,
      "outputs": []
    },
    {
      "cell_type": "markdown",
      "source": [
        "# Heatmap"
      ],
      "metadata": {
        "id": "BYphAEahgxz4"
      }
    },
    {
      "cell_type": "markdown",
      "source": [
        "Checking if Chest pain and Vessel colour has anything to do with Target(Chances of getting heart attack.)"
      ],
      "metadata": {
        "id": "v5In7Jsvg3Us"
      }
    },
    {
      "cell_type": "code",
      "source": [
        "plt.figure(figsize=(10, 6))\n",
        "sns.boxplot(data=df, x='sex', y='cp', hue='target', palette='Set2')\n",
        "sns.stripplot(data=df, x='sex', y='cp', hue='target', dodge=True, alpha=0.6, jitter=True, palette='Set2')\n",
        "plt.title('Distribution of Chest Pain Type by Gender, CA, and Target')\n",
        "plt.xlabel('Gender (0 = Female, 1 = Male)')\n",
        "plt.ylabel('Chest Pain Type')\n",
        "plt.legend(title='Target (1 = Heart Attack)')\n",
        "plt.show()"
      ],
      "metadata": {
        "id": "ipIW2oBqg7c8"
      },
      "execution_count": null,
      "outputs": []
    },
    {
      "cell_type": "code",
      "source": [
        "# Correlation heatmap\n",
        "plt.figure(figsize=(12, 8))\n",
        "sns.heatmap(df.corr(), annot=True, cmap='coolwarm')\n",
        "plt.title('Correlation Heatmap')\n",
        "plt.show()\n"
      ],
      "metadata": {
        "id": "iRI_a-SJhCrf"
      },
      "execution_count": null,
      "outputs": []
    },
    {
      "cell_type": "markdown",
      "source": [
        "#General Observations from the Heatmap\n",
        "**Strongest correlations with the target (last row/column):**"
      ],
      "metadata": {
        "id": "IkwlwPl8hHw4"
      }
    },
    {
      "cell_type": "markdown",
      "source": [
        "thalachh (maximum heart rate achieved) has a moderate positive correlation with the target.\n",
        "\n",
        "cp (chest pain type) also shows a notable positive correlation with the target.\n",
        "\n",
        "Features like exang (exercise-induced angina), oldpeak (ST depression), and ca (number of major vessels) show moderate negative correlations with the target."
      ],
      "metadata": {
        "id": "laAjOzXwhPu3"
      }
    },
    {
      "cell_type": "markdown",
      "source": [
        "#Feature Description:"
      ],
      "metadata": {
        "id": "6Bvl9slBhWBR"
      }
    },
    {
      "cell_type": "markdown",
      "source": [
        "Age Correlation with target: Slight negative correlation (-0.18). Older individuals might have a lower probability of the target outcome.\n",
        "\n",
        "Gender Correlation with target: Negative (-0.23). Gender might influence the target outcome.\n",
        "\n",
        "0 = Typical angina, 1 = Atypical angina, 2 = Non-anginal pain, 3 = Asymptomatic, 4 = Psychogenic Chest Pain.\n",
        "Chest pain Correlation with target: Positive (0.31). Certain chest pain types are more associated with the target outcome.\n",
        "\n",
        "trestbps(resting blood pressure) Correlation with target: Slight negative correlation (-0.12). No strong link to the target.\n",
        "\n",
        "Chol(cholesterol) Correlation with target: Very weak negative correlation (-0.088). Cholesterol levels might not strongly influence the target outcome.\n",
        "\n",
        "align=centerfbs Correlation with target: Very weak negative correlation (-0.039). Fasting blood sugar might not have a significant impact.\n",
        "\n",
        "restecg 0 = Normal, 1 = ST-T wave abnormality, 2 = Left ventricular hypertrophy.\n",
        "Correlation with target: Weak positive correlation (0.096). Some ECG results might indicate the target outcome.\n",
        "\n",
        "thalachh(maximum heart rate achieved) Correlation with target: Positive (0.36). Higher heart rates are more associated with the target outcome.\n",
        "\n",
        "exang(exercise - inclued angina) Correlation with target: Negative (-0.38). Exercise-induced angina is inversely related to the target outcome.\n",
        "\n",
        "oldpeack Correlation with target: Negative (-0.38). Higher values indicate worse outcomes for the target.\n",
        "\n",
        "1 = Upsloping, 2 = Flat, 3 = Downsloping.\n",
        "slop Correlation with target: Positive (0.32). The slope of the ST segment is linked to the target outcome.\n",
        "\n",
        "ca(number of major vessels colored by fluoroscopy) Correlation with target: Negative (-0.33). More vessels indicate worse outcomes.\n",
        "\n",
        "3 = Normal, 6 = Fixed defect, 7 = Reversible defect.\n",
        "thal(thalassemina) Correlation with target: Negative (-0.26). Some thalassemia types are linked to worse outcomes.\n",
        "\n",
        "target: 1 = Presence of heart disease, 0 = Absence of heart disease.\n",
        "\n",
        "The dataset contains several features that are moderately correlated with the target variable, including cp, thalachh, slope, ca, and exang. These could be key predictors for a machine learning model."
      ],
      "metadata": {
        "id": "lKZXcNWEhYkR"
      }
    },
    {
      "cell_type": "markdown",
      "source": [
        "#ML"
      ],
      "metadata": {
        "id": "WtiFu3WihngJ"
      }
    },
    {
      "cell_type": "markdown",
      "source": [
        "#4 Data Preprocessing"
      ],
      "metadata": {
        "id": "hbaRcNvThpHB"
      }
    },
    {
      "cell_type": "code",
      "source": [
        "# just in case if i messed up\n",
        "df1 = pd.get_dummies(df, drop_first=True)"
      ],
      "metadata": {
        "id": "XaIR1_6Hhsq-"
      },
      "execution_count": null,
      "outputs": []
    },
    {
      "cell_type": "code",
      "source": [
        "# Splitting features and target\n",
        "X = df.drop(columns=['target'])     # remove target column\n",
        "y = df['target']                    # remove all column except target\n",
        "\n",
        "# Splitting into training and testing sets\n",
        "X_train, X_test, y_train, y_test = train_test_split(X, y, test_size=0.2, random_state=42)\n",
        "\n",
        "# Standardizing features\n",
        "scaler = StandardScaler()\n",
        "X_train = scaler.fit_transform(X_train)\n",
        "X_test = scaler.transform(X_test)"
      ],
      "metadata": {
        "id": "pMhslvaahw1W"
      },
      "execution_count": null,
      "outputs": []
    },
    {
      "cell_type": "markdown",
      "source": [
        "#5 Model Selection and Training\n"
      ],
      "metadata": {
        "id": "gQxnSHK5h3AT"
      }
    },
    {
      "cell_type": "code",
      "source": [
        "# Using logisticregression\n",
        "model = LogisticRegression()\n",
        "\n",
        "# train the model\n",
        "model.fit(X_train, y_train)\n",
        "\n",
        "# Predictions\n",
        "y_pred = model.predict(X_test)\n",
        "\n",
        "# Evaluating the model\n",
        "print(\"Accuracy Score:\", accuracy_score(y_test, y_pred))\n",
        "print(\"Classification Report:\\n\", classification_report(y_test, y_pred))\n",
        "\n",
        "# Confusion Matrix\n",
        "conf_matrix = confusion_matrix(y_test, y_pred)\n",
        "sns.heatmap(conf_matrix, annot=True, fmt='d', cmap='Blues')\n",
        "plt.title('Confusion Matrix')\n",
        "plt.xlabel('Predicted')\n",
        "plt.ylabel('Actual')\n",
        "plt.show()"
      ],
      "metadata": {
        "id": "I8Mrd4Bxh4aY"
      },
      "execution_count": null,
      "outputs": []
    },
    {
      "cell_type": "code",
      "source": [
        "# checking how model performs\n",
        "examples = [\n",
        "    [60, 1, 3, 140, 250, 0, 1, 145, 0, 1.2, 1, 0, 3],\n",
        "    [45, 0, 0, 130, 220, 0, 1, 160, 0, 0.5, 2, 0, 2],\n",
        "    [67, 1, 2, 150, 270, 1, 0, 120, 1, 2.0, 1, 2, 3],\n",
        "    [50, 0, 1, 110, 180, 0, 0, 155, 0, 0.0, 2, 0, 3],\n",
        "    [55, 1, 2, 145, 230, 1, 0, 150, 0, 1.5, 2, 1, 3],\n",
        "    [42, 0, 1, 125, 210, 0, 1, 170, 0, 0.8, 1, 0, 2],\n",
        "    [70, 1, 0, 160, 300, 1, 1, 110, 1, 3.2, 2, 2, 3],\n",
        "    [39, 0, 3, 135, 190, 0, 0, 130, 0, 0.2, 0, 0, 2],\n",
        "    [65, 1, 1, 140, 260, 1, 0, 125, 1, 2.3, 2, 2, 3],\n",
        "    [50, 0, 2, 120, 180, 0, 1, 160, 0, 0.9, 1, 0, 2],\n",
        "    [58, 1, 0, 150, 240, 1, 0, 140, 0, 1.8, 2, 1, 3],\n",
        "    [47, 0, 3, 130, 200, 0, 0, 145, 0, 0.4, 1, 0, 2],\n",
        "    [62, 1, 2, 155, 250, 1, 1, 135, 1, 2.1, 2, 2, 3],\n",
        "    [35, 0, 1, 125, 170, 0, 0, 150, 0, 0.3, 0, 0, 2],\n",
        "    [68, 1, 2, 145, 280, 1, 0, 120, 1, 2.5, 1, 2, 3],\n",
        "    [52, 0, 0, 135, 220, 0, 1, 155, 0, 1.0, 2, 0, 2],\n",
        "    [41, 0, 1, 115, 200, 0, 0, 170, 0, 0.6, 0, 0, 2],\n",
        "    [64, 1, 3, 150, 290, 1, 1, 125, 1, 2.8, 2, 2, 3],\n",
        "    [48, 0, 2, 140, 210, 0, 1, 160, 0, 0.7, 1, 0, 2],\n",
        "    [75, 1, 1, 160, 310, 1, 0, 115, 1, 3.5, 2, 2, 3],\n",
        "    [53, 0, 0, 130, 195, 0, 1, 145, 0, 1.1, 1, 0, 2],\n",
        "    [60, 1, 3, 145, 275, 1, 0, 130, 1, 1.9, 2, 1, 3],\n",
        "    [46, 0, 1, 125, 185, 0, 0, 165, 0, 0.4, 0, 0, 2],\n",
        "    [61, 1, 2, 150, 265, 1, 1, 120, 1, 2.6, 2, 2, 3],\n",
        "    [49, 0, 0, 140, 200, 0, 1, 155, 0, 0.8, 1, 0, 2]\n",
        "]\n",
        "\n",
        "# Creating a for loop to make my life a little less heart-attack-inducing.\n",
        "for i, example in enumerate(examples, start=1):\n",
        "    example_df = pd.DataFrame([example], columns=X.columns)  # Ensure this has the correct columns\n",
        "    example_scaled = scaler.transform(example_df)\n",
        "    prediction = model.predict(example_scaled)\n",
        "    print(f\"Prediction for Example {i} (Heart Disease Risk):\", \"Yes\" if prediction[0] == 1 else \"No\")"
      ],
      "metadata": {
        "id": "G8Zc5HT_iHDt"
      },
      "execution_count": null,
      "outputs": []
    },
    {
      "cell_type": "markdown",
      "source": [
        "#feature Importance in dataset"
      ],
      "metadata": {
        "id": "ep7JnWQIiNyl"
      }
    },
    {
      "cell_type": "markdown",
      "source": [
        "to know which feature mostly affects the cause of heart attack!"
      ],
      "metadata": {
        "id": "kQ0mYnAPiRc_"
      }
    },
    {
      "cell_type": "code",
      "source": [
        "from sklearn.inspection import permutation_importance  # For calculating feature importance\n",
        "import matplotlib.pyplot as plt\n",
        "import numpy as np\n",
        "\n",
        "# Calculate permutation importance for the model on test data\n",
        "# n_repeats: number of shuffles for each feature; random_state ensures reproducibility\n",
        "perm_importance = permutation_importance(model, X_test, y_test, n_repeats=10, random_state=42)\n",
        "\n",
        "# Get indices of features sorted by their mean importance (ascending order)\n",
        "sorted_idx = perm_importance.importances_mean.argsort()\n",
        "\n",
        "# Create a colormap with unique colors for each feature\n",
        "# np.linspace creates a gradient of values between 0 and 1 for the number of features\n",
        "colors = plt.cm.viridis(np.linspace(0, 1, len(sorted_idx)))\n",
        "\n",
        "\n",
        "plt.figure(figsize=(15, 8))\n",
        "\n",
        "# barh: horizontal bar chart\n",
        "# X.columns[sorted_idx]: feature names sorted by importance\n",
        "# perm_importance.importances_mean[sorted_idx]: importance values in sorted order\n",
        "# color=colors: assign each feature a unique color\n",
        "plt.barh(X.columns[sorted_idx], perm_importance.importances_mean[sorted_idx], color=colors)\n",
        "plt.xlabel('Permutation Importance')\n",
        "plt.ylabel('Feature')\n",
        "plt.title('Feature Importance (Permutation Importance)')\n",
        "plt.show()"
      ],
      "metadata": {
        "id": "PwiIazBXiSXK"
      },
      "execution_count": null,
      "outputs": []
    },
    {
      "cell_type": "markdown",
      "source": [
        "#Importance of Making a Heart Disease Prediction"
      ],
      "metadata": {
        "id": "fFoQr8sYiblC"
      }
    },
    {
      "cell_type": "markdown",
      "source": [
        "Machine learning models like the one demonstrated here can assist healthcare professionals by providing a second opinion based on patient data. This can:\n",
        "\n",
        "1. Improve diagnosis accuracy.\n",
        "2. Enable early detection, reducing severe outcomes.\n",
        "3. Optimize resource allocation in healthcare facilities.\n",
        "4. Foster research in predictive analytics for various diseases.\n",
        "5. This project underscores the transformative role of technology in modern medicine."
      ],
      "metadata": {
        "id": "niOGLw68ij1n"
      }
    }
  ]
}